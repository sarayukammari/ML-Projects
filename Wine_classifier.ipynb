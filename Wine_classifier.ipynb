{
  "nbformat": 4,
  "nbformat_minor": 0,
  "metadata": {
    "colab": {
      "provenance": [],
      "include_colab_link": true
    },
    "kernelspec": {
      "name": "python3",
      "display_name": "Python 3"
    },
    "language_info": {
      "name": "python"
    }
  },
  "cells": [
    {
      "cell_type": "markdown",
      "metadata": {
        "id": "view-in-github",
        "colab_type": "text"
      },
      "source": [
        "<a href=\"https://colab.research.google.com/github/sarayukammari/ML-Projects/blob/main/Wine_classifier.ipynb\" target=\"_parent\"><img src=\"https://colab.research.google.com/assets/colab-badge.svg\" alt=\"Open In Colab\"/></a>"
      ]
    },
    {
      "cell_type": "code",
      "execution_count": null,
      "metadata": {
        "id": "QKEcVIuOMtVi"
      },
      "outputs": [],
      "source": [
        "from sklearn import datasets\n",
        "\n",
        "wine= datasets.load_wine(as_frame=True)\n",
        "x=wine.data\n",
        "y=wine.target\n",
        "# first_vs_rest = (y == 0) | (y == 1),(y == 2)\n",
        "# print(X.head())\n",
        "# print(y.head())\n",
        "# print(y.value_counts())\n",
        "# print(x.value_counts())\n"
      ]
    },
    {
      "cell_type": "code",
      "source": [
        "from sklearn.model_selection import train_test_split\n",
        "\n",
        "x_train,x_test,y_train,y_test=train_test_split(x,y,test_size=0.2, random_state=42)\n"
      ],
      "metadata": {
        "id": "CLt9i8QaqwlA"
      },
      "execution_count": null,
      "outputs": []
    },
    {
      "cell_type": "code",
      "source": [
        "from sklearn.svm import SVC,LinearSVC\n",
        "from sklearn.metrics import cross_val_score\n",
        "from sklearn.pipeline import Pipeline\n",
        "model=LinearSVC()\n",
        "model.fit(x_train,y_train)\n",
        "\n"
      ],
      "metadata": {
        "colab": {
          "base_uri": "https://localhost:8080/"
        },
        "id": "lo2QjrAxr7S7",
        "outputId": "ea6b5963-730e-42c7-a973-106f8e44b946"
      },
      "execution_count": null,
      "outputs": [
        {
          "output_type": "stream",
          "name": "stdout",
          "text": [
            "0.97192118226601\n",
            "[0.96551724 0.96551724 1.         0.96428571 0.96428571]\n"
          ]
        }
      ]
    },
    {
      "cell_type": "code",
      "source": [
        "from sklearn.model_selection import RandomizedSearchCV\n",
        "from scipy.stats import uniform,loguniform\n",
        "\n",
        "n_parameters={\n",
        "    \"svc__C\": uniform(1,100),\n",
        "    \"svc__gamma\":loguniform(0.001,0.1)\n",
        "}\n",
        "\n",
        "searchcv= RandomizedSearchCV(model,n_parameters,cv=5,n_iter=100,random_state=42)\n",
        "searchcv.fit(x_train,y_train)\n",
        "score=searchcv.score(x_test,y_test)\n",
        "print(score)\n"
      ],
      "metadata": {
        "colab": {
          "base_uri": "https://localhost:8080/"
        },
        "id": "xU2MqppLUwLA",
        "outputId": "a6bf13c0-0ced-47aa-9a80-b41a2aef826e"
      },
      "execution_count": null,
      "outputs": [
        {
          "output_type": "stream",
          "name": "stdout",
          "text": [
            "1.0\n"
          ]
        }
      ]
    },
    {
      "cell_type": "code",
      "source": [
        "from sklearn.metrics import confusion_matrix\n",
        "y_pred = searchcv.best_estimator_.predict(x_test)\n",
        "print(confusion_matrix(y_test, y_pred))\n"
      ],
      "metadata": {
        "colab": {
          "base_uri": "https://localhost:8080/"
        },
        "id": "mNG-1IHkxrMl",
        "outputId": "f908d885-25a6-4daf-97ed-2d539d6b4e62"
      },
      "execution_count": null,
      "outputs": [
        {
          "output_type": "stream",
          "name": "stdout",
          "text": [
            "[[14  0  0]\n",
            " [ 0 14  0]\n",
            " [ 0  0  8]]\n"
          ]
        }
      ]
    },
    {
      "cell_type": "code",
      "source": [
        "import numpy as np\n",
        "print(x_train.shape, x_test.shape)\n",
        "print(y_train.shape, y_test.shape)\n",
        "print(np.unique(y_test, return_counts=True))\n"
      ],
      "metadata": {
        "colab": {
          "base_uri": "https://localhost:8080/"
        },
        "id": "-6uRZW64zDgQ",
        "outputId": "438e0fdc-dfbd-4392-b5ab-2d3b4037ce5a"
      },
      "execution_count": null,
      "outputs": [
        {
          "output_type": "stream",
          "name": "stdout",
          "text": [
            "(142, 13) (36, 13)\n",
            "(142,) (36,)\n",
            "(array([0, 1, 2]), array([14, 14,  8]))\n"
          ]
        }
      ]
    }
  ]
}